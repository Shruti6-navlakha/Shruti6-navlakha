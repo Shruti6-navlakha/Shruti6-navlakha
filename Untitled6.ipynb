{
  "nbformat": 4,
  "nbformat_minor": 0,
  "metadata": {
    "colab": {
      "name": "Untitled6.ipynb",
      "provenance": [],
      "authorship_tag": "ABX9TyPf2zHhDV6LvtqshU0YOMmN",
      "include_colab_link": true
    },
    "kernelspec": {
      "name": "python3",
      "display_name": "Python 3"
    },
    "language_info": {
      "name": "python"
    }
  },
  "cells": [
    {
      "cell_type": "markdown",
      "metadata": {
        "id": "view-in-github",
        "colab_type": "text"
      },
      "source": [
        "<a href=\"https://colab.research.google.com/github/Shruti6-navlakha/Shruti6-navlakha/blob/main/Untitled6.ipynb\" target=\"_parent\"><img src=\"https://colab.research.google.com/assets/colab-badge.svg\" alt=\"Open In Colab\"/></a>"
      ]
    },
    {
      "cell_type": "code",
      "execution_count": null,
      "metadata": {
        "id": "S6qEGV-V8Fbh"
      },
      "outputs": [],
      "source": [
        "import numpy as np\n",
        "import cv2\n",
        "from datetime import datetime\n",
        "import pandas "
      ]
    },
    {
      "cell_type": "code",
      "source": [
        "first_frame = None\n",
        "status_list = [None,None]\n",
        "times = []\n",
        "df = pandas.DataFrame(columns=[\"Start\",\"End\"])"
      ],
      "metadata": {
        "id": "M1Srlnen8M8c"
      },
      "execution_count": null,
      "outputs": []
    },
    {
      "cell_type": "code",
      "source": [
        "video = cv2.VideoCapture(0)"
      ],
      "metadata": {
        "id": "nGdlhekw8RR-"
      },
      "execution_count": null,
      "outputs": []
    },
    {
      "cell_type": "code",
      "source": [
        "while True:\n",
        "    check,frame = video.read()\n",
        "status = 0\n",
        "gray =cv2.cvtColor(frame, cv2.COLOR_BGR2GRAY)\n",
        "gray = cv2.GuassianBlur(gray,(21,21),0)\n",
        "if first_frame is None:\n",
        "    first_frame=gray\n",
        "    continue\n",
        "    diff_frame = cv2.absdiff(first_frame, gray)\n",
        "    thresh_frame = cv2.threshold(diff_frame, 30, 255, cv2.THRESH_BINARY)[1]\n",
        "    thresh_frame = cv2.dilate(thresh_frame, None, iterations = 2)\n",
        "    \n",
        "    cnts,_ = cv2.findContours(thresh_frame.copy(),\n",
        "                       cv2.RETR_EXTERNAL, cv2.CHAIN_APPROX_SIMPLE)\n",
        "    for contour in cnts:\n",
        "        if cv2.contourArea(contour) < 10000:\n",
        "            continue\n",
        "        status = 1\n",
        " \n",
        "        (x, y, w, h) = cv2.boundingRect(contour)\n",
        "        cv2.rectangle(frame, (x, y), (x + w, y + h), (0, 255, 0), 3)\n",
        "        \n",
        "    status_list.append(status)\n",
        " \n",
        "    status_list = status_list[-2:]\n",
        "\n",
        "    if status_list[-1] == 1 and status_list[-2] == 0:\n",
        "        time.append(datetime.now())\n",
        "    if status_list[-1] == 0 and status_list[-2] == 1:\n",
        "        time.append(datetime.now())\n",
        " \n",
        "    # Displaying image in gray_scale\n",
        "    cv2.imshow(\"Gray Frame\", gray)\n",
        " \n",
        "    # Displaying the difference in currentframe to\n",
        "    # the staticframe(very first_frame)\n",
        "    cv2.imshow(\"Difference Frame\", diff_frame)\n",
        " \n",
        "cv2.imshow(\"Threshold Frame\", thresh_frame)\n",
        "cv2.imshow(\"Color Frame\", frame)\n",
        "key = cv2.waitKey(1)\n",
        "if key ==ord('q'):\n",
        "    if status == 1:\n",
        "        time.append(datetime.now())\n",
        "        break\n",
        "\n",
        "for i in range(0, len(time), 2):\n",
        "    df = df.append({\"Start\":time[i], \"End\":time[i + 1]}, ignore_index = True)\n",
        "    \n",
        "df.to_csv(\"Time_of_movements.csv\")\n",
        " \n",
        "video.release()\n",
        " \n",
        "# Destroying all the windows\n",
        "cv2.destroyAllWindows() \n",
        "\n"
      ],
      "metadata": {
        "id": "Yivd15cx8U7Z"
      },
      "execution_count": null,
      "outputs": []
    }
  ]
}